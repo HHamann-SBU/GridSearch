{
 "cells": [
  {
   "cell_type": "code",
   "execution_count": 3,
   "id": "27b0384d-74ff-4019-a901-cab81d502f5a",
   "metadata": {},
   "outputs": [],
   "source": [
    "# DEMONSTRATE GRIDSEARCH WITH CASE14\n",
    "\n",
    "import pandas as pd\n",
    "import pandapower as pp\n",
    "import pandapower.networks as ppnets\n",
    "#from pandapower.plotting import simple_plot, simple_plotly, pf_res_plotly\n",
    "import pandapower.plotting as plt\n",
    "import pandapower.plotting.plotly as pplotly\n",
    "import matplotlib.pyplot as mplt"
   ]
  },
  {
   "cell_type": "code",
   "execution_count": null,
   "id": "856f584a-abae-476b-baf4-a2f27d269f6a",
   "metadata": {},
   "outputs": [],
   "source": [
    "# SUPER SIMPLE EXAMPLE"
   ]
  },
  {
   "cell_type": "code",
   "execution_count": 53,
   "id": "87abcb2c-b47f-415e-b21f-31574e36bbf1",
   "metadata": {},
   "outputs": [
    {
     "data": {
      "text/html": [
       "<div>\n",
       "<style scoped>\n",
       "    .dataframe tbody tr th:only-of-type {\n",
       "        vertical-align: middle;\n",
       "    }\n",
       "\n",
       "    .dataframe tbody tr th {\n",
       "        vertical-align: top;\n",
       "    }\n",
       "\n",
       "    .dataframe thead th {\n",
       "        text-align: right;\n",
       "    }\n",
       "</style>\n",
       "<table border=\"1\" class=\"dataframe\">\n",
       "  <thead>\n",
       "    <tr style=\"text-align: right;\">\n",
       "      <th></th>\n",
       "      <th>name</th>\n",
       "      <th>bus</th>\n",
       "      <th>p_mw</th>\n",
       "      <th>q_mvar</th>\n",
       "      <th>const_z_percent</th>\n",
       "      <th>const_i_percent</th>\n",
       "      <th>sn_mva</th>\n",
       "      <th>scaling</th>\n",
       "      <th>in_service</th>\n",
       "      <th>type</th>\n",
       "    </tr>\n",
       "  </thead>\n",
       "  <tbody>\n",
       "    <tr>\n",
       "      <th>0</th>\n",
       "      <td>load1</td>\n",
       "      <td>2</td>\n",
       "      <td>0.03</td>\n",
       "      <td>0.01</td>\n",
       "      <td>0.0</td>\n",
       "      <td>0.0</td>\n",
       "      <td>NaN</td>\n",
       "      <td>1.0</td>\n",
       "      <td>True</td>\n",
       "      <td>wye</td>\n",
       "    </tr>\n",
       "    <tr>\n",
       "      <th>1</th>\n",
       "      <td>load2</td>\n",
       "      <td>3</td>\n",
       "      <td>0.03</td>\n",
       "      <td>0.01</td>\n",
       "      <td>0.0</td>\n",
       "      <td>0.0</td>\n",
       "      <td>NaN</td>\n",
       "      <td>1.0</td>\n",
       "      <td>True</td>\n",
       "      <td>wye</td>\n",
       "    </tr>\n",
       "  </tbody>\n",
       "</table>\n",
       "</div>"
      ],
      "text/plain": [
       "    name  bus  p_mw  q_mvar  const_z_percent  const_i_percent  sn_mva  \\\n",
       "0  load1    2  0.03    0.01              0.0              0.0     NaN   \n",
       "1  load2    3  0.03    0.01              0.0              0.0     NaN   \n",
       "\n",
       "   scaling  in_service type  \n",
       "0      1.0        True  wye  \n",
       "1      1.0        True  wye  "
      ]
     },
     "execution_count": 53,
     "metadata": {},
     "output_type": "execute_result"
    }
   ],
   "source": [
    "import pandapower as pp\n",
    "import pandapower.networks as pn\n",
    "import pandapower.plotting as plot\n",
    "\n",
    "# 1. Create or load a test network\n",
    "net = pn.simple_four_bus_system()\n",
    "\n",
    "net.load"
   ]
  },
  {
   "cell_type": "code",
   "execution_count": 54,
   "id": "c96dc864-9b1d-49b0-bff6-19c9de5ce4d1",
   "metadata": {},
   "outputs": [],
   "source": [
    "# 2. Run power flow\n",
    "pp.runpp(net)"
   ]
  },
  {
   "cell_type": "code",
   "execution_count": 55,
   "id": "3211a7f7-0dbd-4151-9410-2ff0fdb84384",
   "metadata": {},
   "outputs": [
    {
     "data": {
      "text/html": [
       "<div>\n",
       "<style scoped>\n",
       "    .dataframe tbody tr th:only-of-type {\n",
       "        vertical-align: middle;\n",
       "    }\n",
       "\n",
       "    .dataframe tbody tr th {\n",
       "        vertical-align: top;\n",
       "    }\n",
       "\n",
       "    .dataframe thead th {\n",
       "        text-align: right;\n",
       "    }\n",
       "</style>\n",
       "<table border=\"1\" class=\"dataframe\">\n",
       "  <thead>\n",
       "    <tr style=\"text-align: right;\">\n",
       "      <th></th>\n",
       "      <th>vm_pu</th>\n",
       "      <th>va_degree</th>\n",
       "      <th>p_mw</th>\n",
       "      <th>q_mvar</th>\n",
       "    </tr>\n",
       "  </thead>\n",
       "  <tbody>\n",
       "    <tr>\n",
       "      <th>0</th>\n",
       "      <td>1.000000</td>\n",
       "      <td>0.000000</td>\n",
       "      <td>-0.028256</td>\n",
       "      <td>-0.013475</td>\n",
       "    </tr>\n",
       "    <tr>\n",
       "      <th>1</th>\n",
       "      <td>0.996608</td>\n",
       "      <td>-150.208127</td>\n",
       "      <td>0.000000</td>\n",
       "      <td>0.000000</td>\n",
       "    </tr>\n",
       "    <tr>\n",
       "      <th>2</th>\n",
       "      <td>0.937760</td>\n",
       "      <td>-149.007459</td>\n",
       "      <td>0.010000</td>\n",
       "      <td>0.005000</td>\n",
       "    </tr>\n",
       "    <tr>\n",
       "      <th>3</th>\n",
       "      <td>0.902000</td>\n",
       "      <td>-148.184087</td>\n",
       "      <td>0.015000</td>\n",
       "      <td>0.008000</td>\n",
       "    </tr>\n",
       "  </tbody>\n",
       "</table>\n",
       "</div>"
      ],
      "text/plain": [
       "      vm_pu   va_degree      p_mw    q_mvar\n",
       "0  1.000000    0.000000 -0.028256 -0.013475\n",
       "1  0.996608 -150.208127  0.000000  0.000000\n",
       "2  0.937760 -149.007459  0.010000  0.005000\n",
       "3  0.902000 -148.184087  0.015000  0.008000"
      ]
     },
     "execution_count": 55,
     "metadata": {},
     "output_type": "execute_result"
    }
   ],
   "source": [
    "# 3A. Check Bus voltages and angles\n",
    "net.res_bus        # Bus voltages and angles\n",
    "# vm_pu: voltage magnitude (should be close to 1.0 pu).\n",
    "# va_degree: phase angle (shows how power flows through the system)."
   ]
  },
  {
   "cell_type": "code",
   "execution_count": 48,
   "id": "ff4778a4-f0b3-4b22-8e23-a44ee504fda2",
   "metadata": {},
   "outputs": [
    {
     "data": {
      "text/html": [
       "<div>\n",
       "<style scoped>\n",
       "    .dataframe tbody tr th:only-of-type {\n",
       "        vertical-align: middle;\n",
       "    }\n",
       "\n",
       "    .dataframe tbody tr th {\n",
       "        vertical-align: top;\n",
       "    }\n",
       "\n",
       "    .dataframe thead th {\n",
       "        text-align: right;\n",
       "    }\n",
       "</style>\n",
       "<table border=\"1\" class=\"dataframe\">\n",
       "  <thead>\n",
       "    <tr style=\"text-align: right;\">\n",
       "      <th></th>\n",
       "      <th>p_from_mw</th>\n",
       "      <th>q_from_mvar</th>\n",
       "      <th>p_to_mw</th>\n",
       "      <th>q_to_mvar</th>\n",
       "      <th>pl_mw</th>\n",
       "      <th>ql_mvar</th>\n",
       "      <th>i_from_ka</th>\n",
       "      <th>i_to_ka</th>\n",
       "      <th>i_ka</th>\n",
       "      <th>vm_from_pu</th>\n",
       "      <th>va_from_degree</th>\n",
       "      <th>vm_to_pu</th>\n",
       "      <th>va_to_degree</th>\n",
       "      <th>loading_percent</th>\n",
       "    </tr>\n",
       "  </thead>\n",
       "  <tbody>\n",
       "    <tr>\n",
       "      <th>0</th>\n",
       "      <td>0.027611</td>\n",
       "      <td>0.013328</td>\n",
       "      <td>-0.025713</td>\n",
       "      <td>-0.013088</td>\n",
       "      <td>0.001899</td>\n",
       "      <td>0.000241</td>\n",
       "      <td>0.044405</td>\n",
       "      <td>0.044408</td>\n",
       "      <td>0.044408</td>\n",
       "      <td>0.996608</td>\n",
       "      <td>-150.208127</td>\n",
       "      <td>0.93776</td>\n",
       "      <td>-149.007459</td>\n",
       "      <td>31.273098</td>\n",
       "    </tr>\n",
       "    <tr>\n",
       "      <th>1</th>\n",
       "      <td>0.015713</td>\n",
       "      <td>0.008088</td>\n",
       "      <td>-0.015000</td>\n",
       "      <td>-0.008000</td>\n",
       "      <td>0.000713</td>\n",
       "      <td>0.000088</td>\n",
       "      <td>0.027200</td>\n",
       "      <td>0.027203</td>\n",
       "      <td>0.027203</td>\n",
       "      <td>0.937760</td>\n",
       "      <td>-149.007459</td>\n",
       "      <td>0.90200</td>\n",
       "      <td>-148.184087</td>\n",
       "      <td>19.157249</td>\n",
       "    </tr>\n",
       "  </tbody>\n",
       "</table>\n",
       "</div>"
      ],
      "text/plain": [
       "   p_from_mw  q_from_mvar   p_to_mw  q_to_mvar     pl_mw   ql_mvar  i_from_ka  \\\n",
       "0   0.027611     0.013328 -0.025713  -0.013088  0.001899  0.000241   0.044405   \n",
       "1   0.015713     0.008088 -0.015000  -0.008000  0.000713  0.000088   0.027200   \n",
       "\n",
       "    i_to_ka      i_ka  vm_from_pu  va_from_degree  vm_to_pu  va_to_degree  \\\n",
       "0  0.044408  0.044408    0.996608     -150.208127   0.93776   -149.007459   \n",
       "1  0.027203  0.027203    0.937760     -149.007459   0.90200   -148.184087   \n",
       "\n",
       "   loading_percent  \n",
       "0        31.273098  \n",
       "1        19.157249  "
      ]
     },
     "execution_count": 48,
     "metadata": {},
     "output_type": "execute_result"
    }
   ],
   "source": [
    "# 3B. Check Line Results\n",
    "net.res_line       # Line flows and loading\n",
    "# p_from_mw/q_from_mvar: active/reactive flow at the “from” bus end.\n",
    "# loading_percent: how much of the line’s capacity is used."
   ]
  },
  {
   "cell_type": "code",
   "execution_count": 49,
   "id": "521a855c-d62b-4940-80f4-3db71925fa39",
   "metadata": {},
   "outputs": [
    {
     "data": {
      "text/html": [
       "<div>\n",
       "<style scoped>\n",
       "    .dataframe tbody tr th:only-of-type {\n",
       "        vertical-align: middle;\n",
       "    }\n",
       "\n",
       "    .dataframe tbody tr th {\n",
       "        vertical-align: top;\n",
       "    }\n",
       "\n",
       "    .dataframe thead th {\n",
       "        text-align: right;\n",
       "    }\n",
       "</style>\n",
       "<table border=\"1\" class=\"dataframe\">\n",
       "  <thead>\n",
       "    <tr style=\"text-align: right;\">\n",
       "      <th></th>\n",
       "      <th>p_mw</th>\n",
       "      <th>q_mvar</th>\n",
       "    </tr>\n",
       "  </thead>\n",
       "  <tbody>\n",
       "    <tr>\n",
       "      <th>0</th>\n",
       "      <td>0.020</td>\n",
       "      <td>0.005</td>\n",
       "    </tr>\n",
       "    <tr>\n",
       "      <th>1</th>\n",
       "      <td>0.015</td>\n",
       "      <td>0.002</td>\n",
       "    </tr>\n",
       "  </tbody>\n",
       "</table>\n",
       "</div>"
      ],
      "text/plain": [
       "    p_mw  q_mvar\n",
       "0  0.020   0.005\n",
       "1  0.015   0.002"
      ]
     },
     "execution_count": 49,
     "metadata": {},
     "output_type": "execute_result"
    }
   ],
   "source": [
    "#3C. Check Generator Results\n",
    "net.res_sgen\n",
    "# p_mw: active power generation.\n",
    "# q_mvar: reactive support"
   ]
  },
  {
   "cell_type": "code",
   "execution_count": 50,
   "id": "1920fc74-d438-4bec-be47-57f47a158fa1",
   "metadata": {},
   "outputs": [
    {
     "data": {
      "text/html": [
       "<div>\n",
       "<style scoped>\n",
       "    .dataframe tbody tr th:only-of-type {\n",
       "        vertical-align: middle;\n",
       "    }\n",
       "\n",
       "    .dataframe tbody tr th {\n",
       "        vertical-align: top;\n",
       "    }\n",
       "\n",
       "    .dataframe thead th {\n",
       "        text-align: right;\n",
       "    }\n",
       "</style>\n",
       "<table border=\"1\" class=\"dataframe\">\n",
       "  <thead>\n",
       "    <tr style=\"text-align: right;\">\n",
       "      <th></th>\n",
       "      <th>p_mw</th>\n",
       "      <th>q_mvar</th>\n",
       "    </tr>\n",
       "  </thead>\n",
       "  <tbody>\n",
       "    <tr>\n",
       "      <th>0</th>\n",
       "      <td>0.028256</td>\n",
       "      <td>0.013475</td>\n",
       "    </tr>\n",
       "  </tbody>\n",
       "</table>\n",
       "</div>"
      ],
      "text/plain": [
       "       p_mw    q_mvar\n",
       "0  0.028256  0.013475"
      ]
     },
     "execution_count": 50,
     "metadata": {},
     "output_type": "execute_result"
    }
   ],
   "source": [
    "#3D. Check Slack Bus  \n",
    "net.res_ext_grid   # Slack bus power\n",
    "#tells you how much power the slack bus is supplying\n",
    "#(negative sign means supplying power into the system)?"
   ]
  },
  {
   "cell_type": "code",
   "execution_count": 51,
   "id": "6cc443ad-e0d4-462b-a41c-8545b8ec3847",
   "metadata": {},
   "outputs": [
    {
     "data": {
      "text/html": [
       "<div>\n",
       "<style scoped>\n",
       "    .dataframe tbody tr th:only-of-type {\n",
       "        vertical-align: middle;\n",
       "    }\n",
       "\n",
       "    .dataframe tbody tr th {\n",
       "        vertical-align: top;\n",
       "    }\n",
       "\n",
       "    .dataframe thead th {\n",
       "        text-align: right;\n",
       "    }\n",
       "</style>\n",
       "<table border=\"1\" class=\"dataframe\">\n",
       "  <thead>\n",
       "    <tr style=\"text-align: right;\">\n",
       "      <th></th>\n",
       "      <th>p_hv_mw</th>\n",
       "      <th>q_hv_mvar</th>\n",
       "      <th>p_lv_mw</th>\n",
       "      <th>q_lv_mvar</th>\n",
       "      <th>pl_mw</th>\n",
       "      <th>ql_mvar</th>\n",
       "      <th>i_hv_ka</th>\n",
       "      <th>i_lv_ka</th>\n",
       "      <th>vm_hv_pu</th>\n",
       "      <th>va_hv_degree</th>\n",
       "      <th>vm_lv_pu</th>\n",
       "      <th>va_lv_degree</th>\n",
       "      <th>loading_percent</th>\n",
       "    </tr>\n",
       "  </thead>\n",
       "  <tbody>\n",
       "    <tr>\n",
       "      <th>0</th>\n",
       "      <td>0.028256</td>\n",
       "      <td>0.013475</td>\n",
       "      <td>-0.027611</td>\n",
       "      <td>-0.013328</td>\n",
       "      <td>0.000644</td>\n",
       "      <td>0.000147</td>\n",
       "      <td>0.001807</td>\n",
       "      <td>0.044405</td>\n",
       "      <td>1.0</td>\n",
       "      <td>0.0</td>\n",
       "      <td>0.996608</td>\n",
       "      <td>-150.208127</td>\n",
       "      <td>12.521761</td>\n",
       "    </tr>\n",
       "  </tbody>\n",
       "</table>\n",
       "</div>"
      ],
      "text/plain": [
       "    p_hv_mw  q_hv_mvar   p_lv_mw  q_lv_mvar     pl_mw   ql_mvar   i_hv_ka  \\\n",
       "0  0.028256   0.013475 -0.027611  -0.013328  0.000644  0.000147  0.001807   \n",
       "\n",
       "    i_lv_ka  vm_hv_pu  va_hv_degree  vm_lv_pu  va_lv_degree  loading_percent  \n",
       "0  0.044405       1.0           0.0  0.996608   -150.208127        12.521761  "
      ]
     },
     "execution_count": 51,
     "metadata": {},
     "output_type": "execute_result"
    }
   ],
   "source": [
    "#3E. Check Transformer loadings\n",
    "net.res_trafo"
   ]
  },
  {
   "cell_type": "code",
   "execution_count": 56,
   "id": "ce38f2d5-37c3-40a4-923f-17253f58ef22",
   "metadata": {},
   "outputs": [
    {
     "name": "stdout",
     "output_type": "stream",
     "text": [
      "total gen MW: 0.02825569169457029\n",
      "total imported gen MW: 0.02825569169457029\n",
      "total local gen MW: 0.0\n",
      "total load MW: 0.06\n"
     ]
    }
   ],
   "source": [
    "gen_mw_total = net.res_gen['p_mw'].sum() \n",
    "imports_mw_total = net.res_ext_grid['p_mw'].sum()\n",
    "\n",
    "print('total gen MW:', gen_mw_total + imports_mw_total)\n",
    "print('total imported gen MW:', imports_mw_total)\n",
    "print('total local gen MW:', gen_mw_total)\n",
    "print('total load MW:', net.res_load['p_mw'].sum())"
   ]
  },
  {
   "cell_type": "code",
   "execution_count": null,
   "id": "8ee78987-8403-4d44-a6fb-362182e5839e",
   "metadata": {},
   "outputs": [],
   "source": []
  }
 ],
 "metadata": {
  "kernelspec": {
   "display_name": "Python 3 (ipykernel)",
   "language": "python",
   "name": "python3"
  },
  "language_info": {
   "codemirror_mode": {
    "name": "ipython",
    "version": 3
   },
   "file_extension": ".py",
   "mimetype": "text/x-python",
   "name": "python",
   "nbconvert_exporter": "python",
   "pygments_lexer": "ipython3",
   "version": "3.8.20"
  }
 },
 "nbformat": 4,
 "nbformat_minor": 5
}
